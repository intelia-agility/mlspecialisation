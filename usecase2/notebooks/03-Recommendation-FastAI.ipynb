{
 "cells": [
  {
   "cell_type": "code",
   "execution_count": 1,
   "id": "d4bdb71a-4fc4-4a0b-a23f-cd2a67fc2eaa",
   "metadata": {},
   "outputs": [],
   "source": [
    "# !pip install --upgrade fastai torch torchvision torchaudio #--index-url https://download.pytorch.org/whl/cu116"
   ]
  },
  {
   "cell_type": "code",
   "execution_count": 2,
   "id": "7520fd8e-561f-4dfe-9b78-4f5b6355a28b",
   "metadata": {},
   "outputs": [
    {
     "name": "stdout",
     "output_type": "stream",
     "text": [
      "False\n"
     ]
    }
   ],
   "source": [
    "import torch\n",
    "from torch import nn\n",
    "print(torch.cuda.is_available())"
   ]
  },
  {
   "cell_type": "code",
   "execution_count": 3,
   "id": "63e9b786-715e-4c12-91d8-601b8e53a7ff",
   "metadata": {},
   "outputs": [],
   "source": [
    "from fastai.collab import CollabDataLoaders, collab_learner\n",
    "from sklearn.model_selection import train_test_split\n",
    "import pandas as pd\n",
    "import random\n",
    "import numpy as np\n",
    "\n",
    "random_seed = 42\n",
    "random.seed(random_seed)\n",
    "np.random.seed(random_seed)\n",
    "torch.random.manual_seed(random_seed)\n",
    "torch.manual_seed(random_seed) # cpu  vars\n",
    "torch.cuda.manual_seed_all(random_seed) # gpu \n",
    "torch.cuda.manual_seed(random_seed)\n",
    "torch.backends.cudnn.deterministic = True  #needed\n",
    "torch.backends.cudnn.benchmark = False\n",
    "\n",
    "import warnings"
   ]
  },
  {
   "cell_type": "code",
   "execution_count": 4,
   "id": "0a826ed7-d811-454e-b720-abd20d0265fe",
   "metadata": {},
   "outputs": [
    {
     "data": {
      "application/vnd.jupyter.widget-view+json": {
       "model_id": "e6f13e75d25c42e39edb38f5c0c80599",
       "version_major": 2,
       "version_minor": 0
      },
      "text/plain": [
       "Query is running:   0%|          |"
      ]
     },
     "metadata": {},
     "output_type": "display_data"
    },
    {
     "data": {
      "application/vnd.jupyter.widget-view+json": {
       "model_id": "0db0fc80d04c4577903e9d939606f718",
       "version_major": 2,
       "version_minor": 0
      },
      "text/plain": [
       "Downloading:   0%|          |"
      ]
     },
     "metadata": {},
     "output_type": "display_data"
    }
   ],
   "source": [
    "%%bigquery df_blackfriday_data\n",
    "select * from `blackfridayintelia.blackfriday.blackfriday`"
   ]
  },
  {
   "cell_type": "code",
   "execution_count": 5,
   "id": "e71a1955-3f92-465c-8876-1fecf72b9ad2",
   "metadata": {},
   "outputs": [],
   "source": [
    "# %store -r df_blackfriday_data"
   ]
  },
  {
   "cell_type": "markdown",
   "id": "e5d2c42f-c694-421a-ab2b-72431f98438f",
   "metadata": {},
   "source": [
    "## Data Processing"
   ]
  },
  {
   "cell_type": "code",
   "execution_count": 6,
   "id": "c54ffcf9-5821-4a1e-8105-ffc7190fe478",
   "metadata": {},
   "outputs": [],
   "source": [
    "trainset, testset = train_test_split(df_blackfriday_data, random_state=random_seed, test_size=0.25)\n"
   ]
  },
  {
   "cell_type": "code",
   "execution_count": 7,
   "id": "01f88928-7537-45f7-95b5-4c11ae840981",
   "metadata": {},
   "outputs": [],
   "source": [
    "ratings_dict = {'item': list(trainset.Product_ID),\n",
    "                'user': list(trainset.User_ID),\n",
    "                'rating': list((trainset.Purchase.pow(1/2)- 3.464)/15)}\n",
    "ratings = pd.DataFrame(ratings_dict)\n",
    "\n",
    "ratings_test_dict = {'item': list(testset.Product_ID),\n",
    "                'user': list(testset.User_ID),\n",
    "                'rating': list((testset.Purchase.pow(1/2) -3.464)/15)}\n",
    "ratings_test = pd.DataFrame(ratings_test_dict)"
   ]
  },
  {
   "cell_type": "code",
   "execution_count": 8,
   "id": "ab6bfe9f-d848-44ef-b536-bdf4269488da",
   "metadata": {},
   "outputs": [
    {
     "data": {
      "text/html": [
       "<div>\n",
       "<style scoped>\n",
       "    .dataframe tbody tr th:only-of-type {\n",
       "        vertical-align: middle;\n",
       "    }\n",
       "\n",
       "    .dataframe tbody tr th {\n",
       "        vertical-align: top;\n",
       "    }\n",
       "\n",
       "    .dataframe thead th {\n",
       "        text-align: right;\n",
       "    }\n",
       "</style>\n",
       "<table border=\"1\" class=\"dataframe\">\n",
       "  <thead>\n",
       "    <tr style=\"text-align: right;\">\n",
       "      <th></th>\n",
       "      <th>user</th>\n",
       "      <th>rating</th>\n",
       "    </tr>\n",
       "  </thead>\n",
       "  <tbody>\n",
       "    <tr>\n",
       "      <th>count</th>\n",
       "      <td>4.125510e+05</td>\n",
       "      <td>412551.000000</td>\n",
       "    </tr>\n",
       "    <tr>\n",
       "      <th>mean</th>\n",
       "      <td>1.003032e+06</td>\n",
       "      <td>5.924891</td>\n",
       "    </tr>\n",
       "    <tr>\n",
       "      <th>std</th>\n",
       "      <td>1.727880e+03</td>\n",
       "      <td>1.813775</td>\n",
       "    </tr>\n",
       "    <tr>\n",
       "      <th>min</th>\n",
       "      <td>1.000001e+06</td>\n",
       "      <td>0.000007</td>\n",
       "    </tr>\n",
       "    <tr>\n",
       "      <th>25%</th>\n",
       "      <td>1.001522e+06</td>\n",
       "      <td>4.857179</td>\n",
       "    </tr>\n",
       "    <tr>\n",
       "      <th>50%</th>\n",
       "      <td>1.003080e+06</td>\n",
       "      <td>5.749405</td>\n",
       "    </tr>\n",
       "    <tr>\n",
       "      <th>75%</th>\n",
       "      <td>1.004480e+06</td>\n",
       "      <td>7.088751</td>\n",
       "    </tr>\n",
       "    <tr>\n",
       "      <th>max</th>\n",
       "      <td>1.006040e+06</td>\n",
       "      <td>10.088627</td>\n",
       "    </tr>\n",
       "  </tbody>\n",
       "</table>\n",
       "</div>"
      ],
      "text/plain": [
       "               user         rating\n",
       "count  4.125510e+05  412551.000000\n",
       "mean   1.003032e+06       5.924891\n",
       "std    1.727880e+03       1.813775\n",
       "min    1.000001e+06       0.000007\n",
       "25%    1.001522e+06       4.857179\n",
       "50%    1.003080e+06       5.749405\n",
       "75%    1.004480e+06       7.088751\n",
       "max    1.006040e+06      10.088627"
      ]
     },
     "execution_count": 8,
     "metadata": {},
     "output_type": "execute_result"
    }
   ],
   "source": [
    "ratings.describe()"
   ]
  },
  {
   "cell_type": "code",
   "execution_count": 9,
   "id": "0b9dcd4e-3fef-4363-af13-91de490e6e5e",
   "metadata": {},
   "outputs": [
    {
     "name": "stderr",
     "output_type": "stream",
     "text": [
      "/home/jupyter/.local/lib/python3.10/site-packages/fastai/torch_core.py:263: UserWarning: 'has_mps' is deprecated, please use 'torch.backends.mps.is_built()'\n",
      "  return getattr(torch, 'has_mps', False)\n"
     ]
    }
   ],
   "source": [
    "dls = CollabDataLoaders.from_df(ratings, bs=512, seed=random_seed)"
   ]
  },
  {
   "cell_type": "markdown",
   "id": "9ab7f88c-88cf-4f68-bbc7-2e47e15a16ba",
   "metadata": {},
   "source": [
    "## DL"
   ]
  },
  {
   "cell_type": "code",
   "execution_count": 37,
   "id": "b81ead96-a061-4b43-bbe8-3286f3163720",
   "metadata": {},
   "outputs": [
    {
     "data": {
      "text/html": [
       "\n",
       "<style>\n",
       "    /* Turns off some styling */\n",
       "    progress {\n",
       "        /* gets rid of default border in Firefox and Opera. */\n",
       "        border: none;\n",
       "        /* Needs to be in here for Safari polyfill so background images work as expected. */\n",
       "        background-size: auto;\n",
       "    }\n",
       "    progress:not([value]), progress:not([value])::-webkit-progress-bar {\n",
       "        background: repeating-linear-gradient(45deg, #7e7e7e, #7e7e7e 10px, #5c5c5c 10px, #5c5c5c 20px);\n",
       "    }\n",
       "    .progress-bar-interrupted, .progress-bar-interrupted::-webkit-progress-bar {\n",
       "        background: #F44336;\n",
       "    }\n",
       "</style>\n"
      ],
      "text/plain": [
       "<IPython.core.display.HTML object>"
      ]
     },
     "metadata": {},
     "output_type": "display_data"
    },
    {
     "data": {
      "text/html": [],
      "text/plain": [
       "<IPython.core.display.HTML object>"
      ]
     },
     "metadata": {},
     "output_type": "display_data"
    },
    {
     "data": {
      "image/png": "[encoded data removed]",
      "text/plain": [
       "<Figure size 640x480 with 1 Axes>"
      ]
     },
     "metadata": {},
     "output_type": "display_data"
    }
   ],
   "source": [
    "# learn = collab_learner(dls, emb_szs={'user': 5, 'item': 5}, n_factors=10, use_nn=True, y_range=(0, 10))\n",
    "learn = collab_learner(dls, use_nn=True, y_range=(0, 10))\n",
    "\n",
    "with warnings.catch_warnings():\n",
    "    warnings.filterwarnings(\"ignore\", category=UserWarning) \n",
    "    learn.lr_find(stop_div=False)\n",
    "    dir(learn.recorder)"
   ]
  },
  {
   "cell_type": "code",
   "execution_count": 38,
   "id": "747a4bf5-670a-43d0-aca6-02a53d42037b",
   "metadata": {},
   "outputs": [
    {
     "data": {
      "text/plain": [
       "0.001"
      ]
     },
     "execution_count": 38,
     "metadata": {},
     "output_type": "execute_result"
    }
   ],
   "source": [
    "learn.recorder.lr"
   ]
  },
  {
   "cell_type": "code",
   "execution_count": 39,
   "id": "d34c1de2-86ba-4ec4-bcb7-e0dcad82a03b",
   "metadata": {},
   "outputs": [
    {
     "data": {
      "text/html": [
       "\n",
       "<style>\n",
       "    /* Turns off some styling */\n",
       "    progress {\n",
       "        /* gets rid of default border in Firefox and Opera. */\n",
       "        border: none;\n",
       "        /* Needs to be in here for Safari polyfill so background images work as expected. */\n",
       "        background-size: auto;\n",
       "    }\n",
       "    progress:not([value]), progress:not([value])::-webkit-progress-bar {\n",
       "        background: repeating-linear-gradient(45deg, #7e7e7e, #7e7e7e 10px, #5c5c5c 10px, #5c5c5c 20px);\n",
       "    }\n",
       "    .progress-bar-interrupted, .progress-bar-interrupted::-webkit-progress-bar {\n",
       "        background: #F44336;\n",
       "    }\n",
       "</style>\n"
      ],
      "text/plain": [
       "<IPython.core.display.HTML object>"
      ]
     },
     "metadata": {},
     "output_type": "display_data"
    },
    {
     "data": {
      "text/html": [
       "<table border=\"1\" class=\"dataframe\">\n",
       "  <thead>\n",
       "    <tr style=\"text-align: left;\">\n",
       "      <th>epoch</th>\n",
       "      <th>train_loss</th>\n",
       "      <th>valid_loss</th>\n",
       "      <th>time</th>\n",
       "    </tr>\n",
       "  </thead>\n",
       "  <tbody>\n",
       "    <tr>\n",
       "      <td>0</td>\n",
       "      <td>0.922481</td>\n",
       "      <td>0.919931</td>\n",
       "      <td>00:12</td>\n",
       "    </tr>\n",
       "    <tr>\n",
       "      <td>1</td>\n",
       "      <td>0.908176</td>\n",
       "      <td>0.889005</td>\n",
       "      <td>00:11</td>\n",
       "    </tr>\n",
       "    <tr>\n",
       "      <td>2</td>\n",
       "      <td>0.875914</td>\n",
       "      <td>0.868672</td>\n",
       "      <td>00:11</td>\n",
       "    </tr>\n",
       "    <tr>\n",
       "      <td>3</td>\n",
       "      <td>0.847315</td>\n",
       "      <td>0.832944</td>\n",
       "      <td>00:11</td>\n",
       "    </tr>\n",
       "    <tr>\n",
       "      <td>4</td>\n",
       "      <td>0.789114</td>\n",
       "      <td>0.790490</td>\n",
       "      <td>00:11</td>\n",
       "    </tr>\n",
       "    <tr>\n",
       "      <td>5</td>\n",
       "      <td>0.739048</td>\n",
       "      <td>0.747156</td>\n",
       "      <td>00:12</td>\n",
       "    </tr>\n",
       "    <tr>\n",
       "      <td>6</td>\n",
       "      <td>0.655043</td>\n",
       "      <td>0.748261</td>\n",
       "      <td>00:11</td>\n",
       "    </tr>\n",
       "  </tbody>\n",
       "</table>"
      ],
      "text/plain": [
       "<IPython.core.display.HTML object>"
      ]
     },
     "metadata": {},
     "output_type": "display_data"
    }
   ],
   "source": [
    "# learn = collab_learner(dls, n_factors=160, use_nn=True, y_range=(0, 10))\n",
    "import warnings\n",
    "\n",
    "\n",
    "with warnings.catch_warnings():\n",
    "    warnings.simplefilter(\"ignore\")\n",
    "    learn.fit_one_cycle(7, lr_max=5e-3, wd=0.7)\n",
    "\n",
    "# 0.7517\n",
    "# 5, 5e-3, 0.2\n",
    "# 0.737\n",
    "# 5, 5e-3, 0.3\n",
    "# 0.734\n",
    "# 6, 5e-3, 0.5\n",
    "# 0.733564\n",
    "# 7, 5e-3, 0.7\n",
    "# 0.731576"
   ]
  },
  {
   "cell_type": "code",
   "execution_count": 40,
   "id": "f9678694-5208-45b1-851b-92dcc3313dad",
   "metadata": {},
   "outputs": [
    {
     "data": {
      "image/png": "[encoded data removed]",
      "text/plain": [
       "<Figure size 640x480 with 1 Axes>"
      ]
     },
     "metadata": {},
     "output_type": "display_data"
    }
   ],
   "source": [
    "learn.recorder.plot_loss()"
   ]
  },
  {
   "cell_type": "code",
   "execution_count": 41,
   "id": "0da51745-344a-45cf-aa85-cf14c78ff904",
   "metadata": {},
   "outputs": [
    {
     "data": {
      "text/html": [
       "\n",
       "<style>\n",
       "    /* Turns off some styling */\n",
       "    progress {\n",
       "        /* gets rid of default border in Firefox and Opera. */\n",
       "        border: none;\n",
       "        /* Needs to be in here for Safari polyfill so background images work as expected. */\n",
       "        background-size: auto;\n",
       "    }\n",
       "    progress:not([value]), progress:not([value])::-webkit-progress-bar {\n",
       "        background: repeating-linear-gradient(45deg, #7e7e7e, #7e7e7e 10px, #5c5c5c 10px, #5c5c5c 20px);\n",
       "    }\n",
       "    .progress-bar-interrupted, .progress-bar-interrupted::-webkit-progress-bar {\n",
       "        background: #F44336;\n",
       "    }\n",
       "</style>\n"
      ],
      "text/plain": [
       "<IPython.core.display.HTML object>"
      ]
     },
     "metadata": {},
     "output_type": "display_data"
    },
    {
     "data": {
      "text/html": [],
      "text/plain": [
       "<IPython.core.display.HTML object>"
      ]
     },
     "metadata": {},
     "output_type": "display_data"
    },
    {
     "data": {
      "text/plain": [
       "(0.8610748292831572, 2462.7632196028985)"
      ]
     },
     "execution_count": 41,
     "metadata": {},
     "output_type": "execute_result"
    }
   ],
   "source": [
    "eval(learn)"
   ]
  },
  {
   "cell_type": "code",
   "execution_count": 42,
   "id": "3c95093b-ac08-43de-b848-03575d0540f5",
   "metadata": {},
   "outputs": [
    {
     "data": {
      "text/plain": [
       "EmbeddingNN(\n",
       "  (embeds): ModuleList(\n",
       "    (0): Embedding(3594, 157)\n",
       "    (1): Embedding(5891, 207)\n",
       "  )\n",
       "  (emb_drop): Dropout(p=0.0, inplace=False)\n",
       "  (bn_cont): BatchNorm1d(0, eps=1e-05, momentum=0.1, affine=True, track_running_stats=True)\n",
       "  (layers): Sequential(\n",
       "    (0): LinBnDrop(\n",
       "      (0): Linear(in_features=364, out_features=50, bias=False)\n",
       "      (1): ReLU(inplace=True)\n",
       "      (2): BatchNorm1d(50, eps=1e-05, momentum=0.1, affine=True, track_running_stats=True)\n",
       "    )\n",
       "    (1): LinBnDrop(\n",
       "      (0): Linear(in_features=50, out_features=1, bias=True)\n",
       "    )\n",
       "    (2): fastai.layers.SigmoidRange(low=0, high=10)\n",
       "  )\n",
       ")"
      ]
     },
     "execution_count": 42,
     "metadata": {},
     "output_type": "execute_result"
    }
   ],
   "source": [
    "learn.model"
   ]
  },
  {
   "cell_type": "markdown",
   "id": "22b8f9a6-ef5d-4c3c-ac75-f57af5b94820",
   "metadata": {},
   "source": [
    "## Hyperparameter Tuning"
   ]
  },
  {
   "cell_type": "code",
   "execution_count": 26,
   "id": "11592c4f-726f-45d0-afc6-81fe1b3a8e8e",
   "metadata": {},
   "outputs": [],
   "source": [
    "import itertools\n",
    "from sklearn.metrics import mean_squared_error\n",
    "from math import sqrt\n",
    "\n",
    "def eval(learner):\n",
    "    dl = learner.dls.test_dl(ratings_test, with_labels=True)\n",
    "    with warnings.catch_warnings():\n",
    "        warnings.simplefilter(\"ignore\")\n",
    "        aaa = learner.get_preds(dl=dl)\n",
    "\n",
    "    testset['y'] = (testset['Purchase'].pow(1/2) -3.464)/15\n",
    "    testset['y_pred'] = [x.tolist()[0] for x in aaa[0]]\n",
    "\n",
    "    scaled_rmse = sqrt(mean_squared_error(testset['y'], testset['y_pred']))\n",
    "    \n",
    "    testset['Purchase_pred'] = (testset.y_pred*15 +3.464) * (testset.y_pred*15 +3.464)\n",
    "    rmse = sqrt(mean_squared_error(testset['Purchase'], testset['Purchase_pred']))\n",
    "    \n",
    "    return scaled_rmse, rmse\n",
    "\n",
    "def randomsearch(parameters, n_iters):\n",
    "    sample_params = random.sample(sorted(itertools.product(*parameters.values())), n_iters)\n",
    "    names = parameters.keys()\n",
    "    \n",
    "    model_pool = []\n",
    "    param_pool = []\n",
    "    srmse_pool = []\n",
    "    rmse_pool = []\n",
    "    for i, params in enumerate(sample_params):\n",
    "        named_params = {x[0]:x[1] for x in zip(names, params)}\n",
    "        print(i, named_params)\n",
    "        \n",
    "        model = learn = collab_learner(dls, n_factors=named_params.get('n_factors'), use_nn=True, y_range=(0, 10))\n",
    "        with model.no_bar(), model.no_logging(), warnings.catch_warnings():\n",
    "            warnings.simplefilter(\"ignore\")\n",
    "            learn.fit_one_cycle(7, lr_max=named_params.get('lr_max'), wd=named_params.get('wd'))\n",
    "            srmse, rmse = eval(learn)\n",
    "            print('\\tscaled_rmse:', srmse, ', rmse:', rmse)\n",
    "            param_pool.append(named_params)\n",
    "            srmse_pool.append(srmse)\n",
    "            model_pool.append(learn)\n",
    "            rmse_pool.append(rmse)\n",
    "            \n",
    "    min_idx = srmse_pool.index(min(srmse_pool))\n",
    "    print('best iteration', min_idx)\n",
    "    print('best performance:', srmse_pool[min_idx], rmse_pool[min_idx])\n",
    "    print('best parameters:', param_pool[min_idx])\n",
    "    return model_pool[min_idx], param_pool[min_idx], srmse_pool[min_idx], rmse_pool[min_idx]"
   ]
  },
  {
   "cell_type": "code",
   "execution_count": 29,
   "id": "4b46b61d-e8f6-4390-8cab-c8a31ed4cabd",
   "metadata": {},
   "outputs": [
    {
     "name": "stdout",
     "output_type": "stream",
     "text": [
      "0 {'n_factors': 250, 'lr_max': 0.005, 'wd': 0.7}\n",
      "\tscaled_rmse: 0.8609914679849139 , rmse: 2461.7785179956645\n",
      "1 {'n_factors': 140, 'lr_max': 0.005, 'wd': 0.6}\n",
      "\tscaled_rmse: 0.8593753679555176 , rmse: 2453.3229534238953\n",
      "2 {'n_factors': 160, 'lr_max': 0.005, 'wd': 0.8}\n",
      "\tscaled_rmse: 0.8594346447982583 , rmse: 2457.040370529697\n",
      "3 {'n_factors': 140, 'lr_max': 0.005, 'wd': 0.7}\n",
      "\tscaled_rmse: 0.8602245920209227 , rmse: 2453.8227834579056\n",
      "4 {'n_factors': 140, 'lr_max': 0.001, 'wd': 0.8}\n",
      "\tscaled_rmse: 0.8965111621418093 , rmse: 2550.10019923723\n",
      "5 {'n_factors': 180, 'lr_max': 0.005, 'wd': 0.6}\n",
      "\tscaled_rmse: 0.8601443221684926 , rmse: 2458.460005725956\n",
      "6 {'n_factors': 250, 'lr_max': 0.005, 'wd': 0.8}\n",
      "\tscaled_rmse: 0.8601282316435895 , rmse: 2457.6814176941184\n",
      "7 {'n_factors': 200, 'lr_max': 0.005, 'wd': 0.8}\n",
      "\tscaled_rmse: 0.8595623420804046 , rmse: 2455.773461129958\n",
      "8 {'n_factors': 160, 'lr_max': 0.02, 'wd': 0.6}\n",
      "\tscaled_rmse: 0.8676434691660311 , rmse: 2479.742906740124\n",
      "9 {'n_factors': 160, 'lr_max': 0.02, 'wd': 0.8}\n",
      "\tscaled_rmse: 0.8676336543440564 , rmse: 2483.6694378233433\n",
      "10 {'n_factors': 200, 'lr_max': 0.005, 'wd': 0.7}\n",
      "\tscaled_rmse: 0.8608410252736618 , rmse: 2464.7781593955974\n",
      "11 {'n_factors': 160, 'lr_max': 0.005, 'wd': 0.7}\n",
      "\tscaled_rmse: 0.8600650456284521 , rmse: 2454.7553447272976\n",
      "12 {'n_factors': 140, 'lr_max': 0.02, 'wd': 0.8}\n",
      "\tscaled_rmse: 0.868026668921735 , rmse: 2475.836696220291\n",
      "13 {'n_factors': 200, 'lr_max': 0.005, 'wd': 0.6}\n",
      "\tscaled_rmse: 0.8593278441106758 , rmse: 2451.919424613334\n",
      "14 {'n_factors': 140, 'lr_max': 0.02, 'wd': 0.7}\n",
      "\tscaled_rmse: 0.8689827130252723 , rmse: 2482.20612739321\n",
      "best iteration 13\n",
      "best performance: 0.8593278441106758 2451.919424613334\n",
      "best parameters: {'n_factors': 200, 'lr_max': 0.005, 'wd': 0.6}\n"
     ]
    }
   ],
   "source": [
    "parameters = {'n_factors': [140, 160, 180, 200, 250],\n",
    "             'lr_max': [1e-3, 5e-3, 2e-2],\n",
    "             'wd':[0.6, 0.7, 0.8]}\n",
    "learner, params, scaled_rmse, rmse = randomsearch(parameters, 15)"
   ]
  },
  {
   "cell_type": "code",
   "execution_count": 28,
   "id": "d9209e6d-1599-44d0-860d-64cd02f8c73a",
   "metadata": {},
   "outputs": [
    {
     "data": {
      "text/plain": [
       "[(3594, 157), (5891, 207)]"
      ]
     },
     "execution_count": 28,
     "metadata": {},
     "output_type": "execute_result"
    }
   ],
   "source": [
    "from fastai import tabular\n",
    "tabular.model.get_emb_sz(dls.train_ds, {})"
   ]
  },
  {
   "cell_type": "code",
   "execution_count": null,
   "id": "33ab9b64-ca86-4017-ac06-ca9e24de0623",
   "metadata": {},
   "outputs": [],
   "source": []
  }
 ],
 "metadata": {
  "environment": {
   "kernel": "python3",
   "name": "pytorch-gpu.2-0.m112",
   "type": "gcloud",
   "uri": "gcr.io/deeplearning-platform-release/pytorch-gpu.2-0:m112"
  },
  "kernelspec": {
   "display_name": "Python 3",
   "language": "python",
   "name": "python3"
  },
  "language_info": {
   "codemirror_mode": {
    "name": "ipython",
    "version": 3
   },
   "file_extension": ".py",
   "mimetype": "text/x-python",
   "name": "python",
   "nbconvert_exporter": "python",
   "pygments_lexer": "ipython3",
   "version": "3.10.12"
  }
 },
 "nbformat": 4,
 "nbformat_minor": 5
}
